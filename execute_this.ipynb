{
  "nbformat": 4,
  "nbformat_minor": 0,
  "metadata": {
    "colab": {
      "provenance": []
    },
    "kernelspec": {
      "name": "python3",
      "display_name": "Python 3"
    },
    "language_info": {
      "name": "python"
    }
  },
  "cells": [
    {
      "cell_type": "code",
      "execution_count": 6,
      "metadata": {
        "colab": {
          "base_uri": "https://localhost:8080/"
        },
        "id": "GxUIhq583pcg",
        "outputId": "3df53987-82de-4670-84d6-06bbd7e6a1ee"
      },
      "outputs": [
        {
          "output_type": "stream",
          "name": "stdout",
          "text": [
            "Hello\n",
            "Hola\n",
            "Hallo\n",
            "Hoi\n",
            "Ciao\n",
            "Sup\n"
          ]
        }
      ],
      "source": [
        "greetings = [\"Hello\", \"Hola\", \"Hallo\", \"Hoi\", \"Ciao\", \"Sup\"]\n",
        "for i in range(len(greetings)):\n",
        "  print (greetings[i])"
      ]
    }
  ]
}